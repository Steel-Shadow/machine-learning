{
  "cells": [
    {
      "cell_type": "markdown",
      "metadata": {
        "id": "NrkTvYRbRzDc"
      },
      "source": [
        "### Binary Classification - SpamFilter-sm"
      ]
    },
    {
      "cell_type": "markdown",
      "metadata": {
        "collapsed": false,
        "id": "JWk0XJVvRzDd"
      },
      "source": [
        "#### Import the Necessary Libraries"
      ]
    },
    {
      "cell_type": "code",
      "execution_count": null,
      "metadata": {
        "id": "Kt664pCGRzDd",
        "is_executing": true
      },
      "outputs": [],
      "source": [
        "import os\n",
        "import re\n",
        "\n",
        "os.environ['TOKENIZERS_PARALLELISM'] = 'false'\n",
        "\n",
        "import pandas as pd\n",
        "import numpy as np\n",
        "\n",
        "import matplotlib.pyplot as plt\n",
        "\n",
        "from sklearn.metrics import confusion_matrix, ConfusionMatrixDisplay, accuracy_score, f1_score\n",
        "\n",
        "import torch\n",
        "import torch.nn\n",
        "# !pip install datasets\n",
        "from datasets import Dataset, DatasetDict\n",
        "\n",
        "from transformers import AutoModelForSequenceClassification, AutoTokenizer, AutoModel\n",
        "from transformers import TrainingArguments, Trainer, get_scheduler, set_seed\n",
        "\n",
        "import subprocess\n",
        "import os\n",
        "\n",
        "# result = subprocess.run('bash -c \"source /etc/network_turbo && env | grep proxy\"', shell=True, capture_output=True, text=True)\n",
        "# output = result.stdout\n",
        "# for line in output.splitlines():\n",
        "#     if '=' in line:\n",
        "#         var, value = line.split('=', 1)\n",
        "#         os.environ[var] = value"
      ]
    },
    {
      "cell_type": "markdown",
      "metadata": {
        "id": "FRB17ys2RzDe"
      },
      "source": [
        "Versions of Important Libraries Used"
      ]
    },
    {
      "cell_type": "code",
      "execution_count": null,
      "metadata": {
        "colab": {
          "base_uri": "https://localhost:8080/"
        },
        "id": "KDDL1P8PRzDe",
        "is_executing": true,
        "outputId": "be9aa7f2-ffed-4fbe-acd2-6f73ede6b897"
      },
      "outputs": [],
      "source": [
        "print(\"Pandas:\".ljust(18), pd.__version__)\n",
        "print(\"NumPy:\".ljust(18), np.__version__)\n",
        "print(\"Torch:\".ljust(18), torch.__version__)"
      ]
    },
    {
      "cell_type": "markdown",
      "metadata": {
        "id": "xoM9YJR4RzDf"
      },
      "source": [
        "#### Basic Constants/Values Used"
      ]
    },
    {
      "cell_type": "code",
      "execution_count": null,
      "metadata": {
        "colab": {
          "base_uri": "https://localhost:8080/"
        },
        "id": "RB77nwGXRzDf",
        "is_executing": true,
        "outputId": "75ecdeed-0656-4894-ebe0-0a25958cc44d"
      },
      "outputs": [],
      "source": [
        "model_ckpt = \"distilbert-base-uncased\"\n",
        "device = torch.device(\"cuda\" if torch.cuda.is_available() else \"cpu\")\n",
        "print(device)\n",
        "\n",
        "set_seed(42)"
      ]
    },
    {
      "cell_type": "markdown",
      "metadata": {
        "id": "ic2IH5m2RzDf"
      },
      "source": [
        "#### Ingest & Preprocess Data"
      ]
    },
    {
      "cell_type": "code",
      "execution_count": null,
      "metadata": {
        "colab": {
          "base_uri": "https://localhost:8080/"
        },
        "id": "VbeTi-elRzDf",
        "is_executing": true,
        "outputId": "bed7bd46-1f1e-4715-928e-eaa8cf1fc274"
      },
      "outputs": [],
      "source": [
        "# training file\n",
        "# train_data = pd.read_csv('SMS_train.csv', encoding='unicode_escape')\n",
        "def clean_text(text:str):\n",
        "    # text =  text.lower()\n",
        "    # text = re.sub(r'\\S+@\\S+', ' email ', text)\n",
        "    # text = re.sub(r'(http|www)\\S+', ' website ', text)\n",
        "    # text = re.sub(r'[\\S+]\\.(com|net)', ' website ', text)\n",
        "    # text = re.sub(r'\\d+', ' number ', text)\n",
        "    return text\n",
        "\n",
        "train_data = pd.read_csv('train.csv', encoding='utf')\n",
        "# train_data = pd.read_csv('full.csv', encoding='utf')\n",
        "\n",
        "train_data.fillna(\"\",inplace=True)\n",
        "train_data.rename(columns={'v2': 'text', 'v1': 'label'}, inplace=True)\n",
        "# train_data.rename(columns={'Message': 'text', 'Category': 'label'}, inplace=True)\n",
        "\n",
        "train_data['text'] = train_data.apply(lambda row: ''.join(map(str, row[2:])), axis=1)\n",
        "# train_data['text'] = train_data['text'].apply(clean_text)\n",
        "\n",
        "train_data = train_data[['text', 'label']]\n",
        "\n",
        "train_data.to_csv(\"temp.csv\",index=True)\n",
        "train_data.info()"
      ]
    },
    {
      "cell_type": "code",
      "execution_count": null,
      "metadata": {
        "colab": {
          "base_uri": "https://localhost:8080/"
        },
        "id": "nm2hjYFiRzDf",
        "is_executing": true,
        "outputId": "4b548409-c5bb-430f-dc75-35163d098ad4"
      },
      "outputs": [],
      "source": [
        "# testing file\n",
        "# test_data = pd.read_csv('SMS_test.csv', encoding='unicode_escape')\n",
        "test_data = pd.read_csv('test.csv', encoding='utf')\n",
        "\n",
        "test_data.fillna(\"\",inplace=True)\n",
        "\n",
        "test_data['text'] = test_data.apply(lambda row: ''.join(map(str, row[0:])), axis=1)\n",
        "train_data['text'] = train_data['text'].apply(clean_text)\n",
        "\n",
        "test_data = pd.DataFrame(test_data['text'])\n",
        "test_data['label'] = 0\n",
        "test_data.info()"
      ]
    },
    {
      "cell_type": "markdown",
      "metadata": {
        "id": "EPOYkrvzRzDf"
      },
      "source": [
        "#### Visualize Message Length (By Result Type)"
      ]
    },
    {
      "cell_type": "code",
      "execution_count": null,
      "metadata": {
        "colab": {
          "base_uri": "https://localhost:8080/",
          "height": 623
        },
        "id": "Pbt8SnggRzDg",
        "is_executing": true,
        "outputId": "31a87340-e676-4404-d755-d29fd1743c4f"
      },
      "outputs": [],
      "source": [
        "print(train_data.value_counts('label'))\n",
        "\n",
        "train_data['message_len'] = train_data['text'].str.split().apply(len)\n",
        "train_data.boxplot(\"message_len\", by=\"label\", grid=False, showfliers=False, color=\"Blue\")\n",
        "\n",
        "plt.suptitle('')\n",
        "plt.title('Message Length by Output')\n",
        "plt.xlabel('')\n",
        "plt.ylabel('Words / Tweet')\n",
        "plt.show()\n",
        "\n",
        "train_data.drop(columns=['message_len'], inplace=True)\n"
      ]
    },
    {
      "cell_type": "markdown",
      "metadata": {
        "id": "J-6X44rIRzDg"
      },
      "source": [
        "#### Convert String Label to Integer Values"
      ]
    },
    {
      "cell_type": "code",
      "execution_count": null,
      "metadata": {
        "id": "fdvGotI6RzDg",
        "is_executing": true
      },
      "outputs": [],
      "source": [
        "train_data['label'].replace({'ham': 0, 'spam': 1}, inplace=True)"
      ]
    },
    {
      "cell_type": "markdown",
      "metadata": {
        "id": "NMWQHt78RzDg"
      },
      "source": [
        "#### Convert Pandas DataFrame to Dataset"
      ]
    },
    {
      "cell_type": "code",
      "execution_count": null,
      "metadata": {
        "colab": {
          "base_uri": "https://localhost:8080/"
        },
        "id": "dC6oMFPTRzDg",
        "is_executing": true,
        "outputId": "51c300f5-eb83-47c9-b677-9bfdcf6bf7bb"
      },
      "outputs": [],
      "source": [
        "train_dataset = Dataset.from_pandas(train_data)\n",
        "train_dataset.shuffle(seed=42)\n",
        "print(train_dataset)\n",
        "print(train_dataset.features)"
      ]
    },
    {
      "cell_type": "markdown",
      "metadata": {
        "id": "vd8yP-I9RzDg"
      },
      "source": [
        "#### Split into Train/Test/Valid"
      ]
    },
    {
      "cell_type": "code",
      "execution_count": null,
      "metadata": {
        "colab": {
          "base_uri": "https://localhost:8080/"
        },
        "id": "Trz3plFeRzDg",
        "outputId": "c5849aa8-0c22-49f1-9e0f-29629c38b045"
      },
      "outputs": [],
      "source": [
        "\n",
        "train_valid = train_dataset.train_test_split(test_size=0.2)\n",
        "test_dataset = Dataset.from_pandas(test_data)\n",
        "\n",
        "ds = DatasetDict({\n",
        "    'train' : train_valid['train'],\n",
        "    'test' : test_dataset,\n",
        "    'valid' : train_valid['test']\n",
        "})\n",
        "\n",
        "print(\"Training dataset shape:\", ds['train'].shape)\n",
        "print(\"Validation dataset shape:\", ds['valid'].shape)\n",
        "print(\"Testing dataset shape:\", ds['test'].shape)"
      ]
    },
    {
      "cell_type": "markdown",
      "metadata": {
        "id": "8HINE6inRzDh"
      },
      "source": [
        "#### Tokenize Entire Dataset"
      ]
    },
    {
      "cell_type": "code",
      "execution_count": null,
      "metadata": {
        "colab": {
          "base_uri": "https://localhost:8080/",
          "height": 99,
          "referenced_widgets": [
            "0ed4818591724ec3b4ff9739710a177c",
            "cab9372e20ce44fc807a360ace65aa67",
            "b3bd66aee4d0433fa7614a33703df137",
            "82da8a313b764f11b18b2652b39d0674",
            "fbfa0b50817f4a11b7088f59225912f7",
            "ea609bd9d42b415d9f250abb10a23275",
            "141d7ff78b6f48c4bb98b3093c0c1d7e",
            "645b6ba6678c48d28b54ce8b6999705e",
            "0e910260d3fd4137abf85b4e727bb565",
            "f812e762a34e4e2fa32efc403045a5c4",
            "89e545dff9764690b1d9d989cd1f033b",
            "41a14e2c5cab4b3e94bf70a4ffb2f5c2",
            "b36f094d6dd644cb951108f61eb9694f",
            "59196517008e492093dbcdd0e0cb1726",
            "95a6742866014012927428add196c015",
            "d497ceebb12743529bb7c38f0f80b1a0",
            "add19c7a6ef542178e0d7de0509ccbaa",
            "502eeb66cee8411e8e653f54ecc4ae93",
            "54c6dbb2f6fe4642b3a04347360eb294",
            "269af35ae4c64ae28e139043fdd24e53",
            "4f0431b59fab486c9516f9bb57f1979b",
            "b6185e4351fb476f9f00ee863542274d",
            "f1b3bb27a2aa498a8d1eb39f1e92d4f1"
          ]
        },
        "id": "vA1TtzkyRzDh",
        "is_executing": true,
        "outputId": "f219cbe0-b3fc-4e30-a056-7b445c16b110"
      },
      "outputs": [],
      "source": [
        "tokenizer = AutoTokenizer.from_pretrained(model_ckpt)\n",
        "\n",
        "\n",
        "def tokenize(example):\n",
        "    text = example['text']\n",
        "    tokenized_output = tokenizer(text, truncation=True, padding=True, max_length=128)\n",
        "    return tokenized_output\n",
        "\n",
        "\n",
        "# encoded_data = ds.map(tokenize, batched=True, batch_size=None)\n",
        "encoded_data = ds.map(tokenize, batched=True, batch_size=None)"
      ]
    },
    {
      "cell_type": "code",
      "execution_count": null,
      "metadata": {
        "colab": {
          "base_uri": "https://localhost:8080/"
        },
        "id": "8lGzS5H2RzDh",
        "outputId": "2444be0b-0153-47a6-cf54-60d0aec63eab"
      },
      "outputs": [],
      "source": [
        "temp_text = 'hmm...bad news...hype park PLA $ number  studio taken...only left  number  bedrm-$ 15 28 ...,ham'\n",
        "\n",
        "print(clean_text(temp_text))\n",
        "print(tokenizer.tokenize(tokenizer.decode(tokenizer.encode(clean_text(temp_text)))))\n"
      ]
    },
    {
      "cell_type": "markdown",
      "metadata": {
        "id": "HLpctCJbRzDh"
      },
      "source": [
        "#### Print Sample to Ensure Edits Worked as Expected"
      ]
    },
    {
      "cell_type": "code",
      "execution_count": null,
      "metadata": {
        "colab": {
          "base_uri": "https://localhost:8080/"
        },
        "id": "0_PLcPLGRzDh",
        "is_executing": true,
        "outputId": "44a0cfab-f431-4f43-d215-e7bf14b18ecc"
      },
      "outputs": [],
      "source": [
        "print(encoded_data['train'].column_names)\n",
        "print(encoded_data['train'][240])"
      ]
    },
    {
      "cell_type": "markdown",
      "metadata": {
        "id": "ARFXf_rARzDh"
      },
      "source": [
        "#### Instantiate Model"
      ]
    },
    {
      "cell_type": "code",
      "execution_count": null,
      "metadata": {
        "colab": {
          "base_uri": "https://localhost:8080/"
        },
        "id": "HnDIG8-wRzDh",
        "is_executing": true,
        "outputId": "79319908-89a3-435e-f49e-d7e8feffcf4f"
      },
      "outputs": [],
      "source": [
        "num_labels = 2\n",
        "labels_dict = {0: 'ham', 1: 'spam'}\n",
        "\n",
        "model = (AutoModelForSequenceClassification.from_pretrained(model_ckpt, num_labels=num_labels).to(device))"
      ]
    },
    {
      "cell_type": "markdown",
      "metadata": {
        "id": "1qev-QAIRzDh"
      },
      "source": [
        "#### Make Sure That git lfs is Installed; Remember to Enter Access Token"
      ]
    },
    {
      "cell_type": "code",
      "execution_count": null,
      "metadata": {
        "colab": {
          "base_uri": "https://localhost:8080/"
        },
        "id": "1Na2YLTvRzDh",
        "is_executing": true,
        "outputId": "df003bd2-64bd-4b1b-e6a1-369401c043e0"
      },
      "outputs": [],
      "source": [
        "# Access Token ...\n",
        "\n",
        "# Used this the first time to install the git lfs; otherwise, it lets me know that git lfs has been initialized\n",
        "!git lfs install"
      ]
    },
    {
      "cell_type": "markdown",
      "metadata": {
        "id": "Q19iav7WRzDh"
      },
      "source": [
        "#### Create Function to Compute Metrics"
      ]
    },
    {
      "cell_type": "code",
      "execution_count": null,
      "metadata": {
        "id": "ETtBV05uRzDh",
        "is_executing": true
      },
      "outputs": [],
      "source": [
        "def compute_metrics(pred):\n",
        "    labels = pred.label_ids\n",
        "    preds = pred.predictions.argmax(-1)\n",
        "    f1 = f1_score(labels, preds, average=\"weighted\")\n",
        "    acc = accuracy_score(labels, preds)\n",
        "    return {\"accuracy\": acc, \"f1\": f1}"
      ]
    },
    {
      "cell_type": "markdown",
      "metadata": {
        "id": "xX09L9alRzDi"
      },
      "source": [
        "#### Instantiate TrainingArguments"
      ]
    },
    {
      "cell_type": "code",
      "execution_count": null,
      "metadata": {
        "colab": {
          "base_uri": "https://localhost:8080/"
        },
        "id": "jlHbuQGSRzDi",
        "is_executing": true,
        "outputId": "ffb42e66-8339-45e8-8ad0-0e17768d5c86"
      },
      "outputs": [],
      "source": [
        "batch_size = 128\n",
        "num_of_epochs = 5\n",
        "logging_steps = round((len(ds[\"train\"]) / batch_size), 0) // 2\n",
        "model_name = f\"{model_ckpt}-SpamFilter-DunnBC22\"\n",
        "learning_rate = 5e-5\n",
        "\n",
        "\n",
        "def model_init():\n",
        "    return AutoModelForSequenceClassification.from_pretrained(model_ckpt, num_labels=num_labels).to(device)\n",
        "\n",
        "# !pip install transformers[torch]\n",
        "args = TrainingArguments(\n",
        "    output_dir=model_name,\n",
        "    num_train_epochs=num_of_epochs,\n",
        "    per_device_train_batch_size=batch_size,\n",
        "    per_device_eval_batch_size=batch_size,\n",
        "    learning_rate=learning_rate,\n",
        "    weight_decay=0.01,\n",
        "    evaluation_strategy=\"epoch\",\n",
        "    disable_tqdm=False,\n",
        "    # compute_metrics=compute_metrics,\n",
        "\n",
        "    # push_to_hub=True,\n",
        "    # hub_strategy=\"every_save\",\n",
        "    # logging_steps=logging_steps,\n",
        "    # logging_dir=\"./logs\",\n",
        "    # log_level=\"error\",\n",
        "    save_strategy=\"steps\",\n",
        "    save_steps=logging_steps,\n",
        "    save_total_limit=12,\n",
        "    group_by_length=True,\n",
        ")"
      ]
    },
    {
      "cell_type": "markdown",
      "metadata": {
        "id": "J1Sp0w8PRzDi"
      },
      "source": [
        "#### Instantiate Optimizer (& Learning Rate Scheduler)"
      ]
    },
    {
      "cell_type": "code",
      "execution_count": null,
      "metadata": {
        "id": "H-j2OFgNRzDi",
        "is_executing": true
      },
      "outputs": [],
      "source": [
        "# optimizer_name = torch.optim.AdamW(model.parameters(), lr=learning_rate)\n",
        "\n",
        "# num_training_steps = num_of_epochs * len(ds[\"train\"])\n",
        "\n",
        "# lr_scheduler = get_scheduler(\n",
        "#     \"linear\",\n",
        "#     optimizer=optimizer_name,\n",
        "#     num_warmup_steps=0,\n",
        "#     num_training_steps=num_training_steps,\n",
        "# )\n",
        "\n",
        "# optimizer = [optimizer_name, lr_scheduler]"
      ]
    },
    {
      "cell_type": "markdown",
      "metadata": {
        "id": "Ib2rOyL9RzDi"
      },
      "source": [
        "#### Instantiate Trainer"
      ]
    },
    {
      "cell_type": "code",
      "execution_count": null,
      "metadata": {
        "colab": {
          "base_uri": "https://localhost:8080/",
          "height": 387,
          "referenced_widgets": [
            "80cf859eee8b4bb38ee7c904de40abf7",
            "44c34676bfb44e8990a527c096718f74",
            "daa01e1db8084de6b62e068cd292e9d3",
            "1d860ce8d2c14c0eb4ecc67ce4f4695b",
            "08af867697dd419f8054a9731c172f7e",
            "b6b8e9b062e449afab662524f5d4ad27",
            "01d5d0f426e042429a9635ff802fca53",
            "9df508fce6f64def9f2ae69c74307dd3",
            "1560e755c1d146bb9e469f7d48f2db51",
            "0b16616bf2224e27b3db4a68ca14cc1b",
            "155c6133f880466ba10246949bd78f6e",
            "0bea318788d446a68977bc1f407188f3",
            "4601a5a8b010446aa43fe25343a144a3",
            "93588f09ebb647ebb558eaca8dd4ee24",
            "09e95e18cd444598914c24807925d674",
            "c39e565e084b4813a9ac4cf5c69ba6cf",
            "17cb4dd3ff6c435c99d577affed29db2"
          ]
        },
        "id": "qtbUVXJoRzDi",
        "is_executing": true,
        "outputId": "bbba9b16-15f1-43b9-f527-a1d5d3c1e4e8"
      },
      "outputs": [],
      "source": [
        "# !pip install --upgrade huggingface_hub\n",
        "import huggingface_hub\n",
        "\n",
        "# Notebook_login()\n",
        "huggingface_hub.login()\n",
        "\n",
        "\n",
        "class MyTrainer(Trainer):\n",
        "    # def __int__(self, *args, **kwargs):\n",
        "    #     super().__int__(*args, **kwargs)\n",
        "\n",
        "    def create_optimizer_and_scheduler(self, num_training_steps: int):\n",
        "        optimizer_name = torch.optim.AdamW(model.parameters(), lr=learning_rate)\n",
        "\n",
        "        num_training_steps = num_of_epochs * len(ds[\"train\"])\n",
        "\n",
        "        lr_scheduler = get_scheduler(\n",
        "            \"linear\",\n",
        "            optimizer=optimizer_name,\n",
        "            num_warmup_steps=0,\n",
        "            num_training_steps=num_training_steps,\n",
        "        )\n",
        "\n",
        "        return [optimizer_name, lr_scheduler]\n",
        "\n",
        "\n",
        "trainer = MyTrainer(\n",
        "    # model=model,\n",
        "    args=args,\n",
        "    tokenizer=tokenizer,\n",
        "    train_dataset=encoded_data[\"train\"],\n",
        "    eval_dataset=encoded_data[\"valid\"],\n",
        "    model_init=model_init,\n",
        "    # optimizers=optimizer,\n",
        "    compute_metrics=compute_metrics,\n",
        ")"
      ]
    },
    {
      "cell_type": "markdown",
      "metadata": {
        "id": "AEIuIeLkRzDi"
      },
      "source": [
        "#### Train Model"
      ]
    },
    {
      "cell_type": "code",
      "execution_count": null,
      "metadata": {
        "colab": {
          "base_uri": "https://localhost:8080/",
          "height": 1000
        },
        "id": "Izbbn1qtRzDi",
        "is_executing": true,
        "outputId": "83dc986a-fe18-4e7a-d87d-86feb06975a7"
      },
      "outputs": [],
      "source": [
        "# !pip install optuna\n",
        "\n",
        "# trainer.hyperparameter_search(\n",
        "#     direction=\"maximize\",\n",
        "#     backend=\"ray\",\n",
        "#     n_trials=10 ,# number of trials\n",
        "# )\n",
        "def optuna_hp_space(trial):\n",
        "    return {\n",
        "        \"learning_rate\": trial.suggest_float(\"learning_rate\", 1e-5, 5e-5, log=True),\n",
        "        \"per_device_train_batch_size\": trial.suggest_categorical(\"per_device_train_batch_size\", [16, 32, 64, 128]),\n",
        "    }\n",
        "\n",
        "best_trials = trainer.hyperparameter_search(\n",
        "    direction= \"maximize\",\n",
        "    backend=\"optuna\",\n",
        "    hp_space=optuna_hp_space,\n",
        "    n_trials=20,\n",
        "    # compute_objective=compute_objective,\n",
        ")\n",
        "# trainer.train()"
      ]
    },
    {
      "cell_type": "markdown",
      "metadata": {
        "id": "G2p2J_81RzDi"
      },
      "source": [
        "#### Inference Using Fine-Tuned Model"
      ]
    },
    {
      "cell_type": "code",
      "execution_count": null,
      "metadata": {
        "id": "35eghlgIRzDi",
        "is_executing": true
      },
      "outputs": [],
      "source": [
        "valid_predictions = trainer.predict(encoded_data['valid'])\n",
        "valid_predictions.metrics"
      ]
    },
    {
      "cell_type": "code",
      "execution_count": null,
      "metadata": {
        "id": "e5LebcEqRzDr"
      },
      "outputs": [],
      "source": [
        "test_predictions = trainer.predict(encoded_data['test'])\n",
        "# test_predictions.metrics"
      ]
    },
    {
      "cell_type": "code",
      "execution_count": null,
      "metadata": {
        "id": "mZPvW75yRzDr"
      },
      "outputs": [],
      "source": [
        "output_dataFrame = pd.DataFrame(test_predictions.predictions)\n",
        "output_dataFrame['label'] = np.argmax(test_predictions.predictions, axis=1)\n",
        "\n",
        "output_dataFrame.apply(lambda row: 'ham' if row.iloc[0] > row.iloc[1] else 'spam', axis=1).to_csv(\"submission.txt\", index=False, header=False)"
      ]
    },
    {
      "cell_type": "code",
      "execution_count": null,
      "metadata": {
        "id": "uMfLy5rARzDr"
      },
      "outputs": [],
      "source": [
        "output_dataFrame"
      ]
    },
    {
      "cell_type": "markdown",
      "metadata": {
        "id": "0h63ca25RzDr"
      },
      "source": [
        "#### Create Function to display Confusion Matrix"
      ]
    },
    {
      "cell_type": "code",
      "execution_count": null,
      "metadata": {
        "id": "9NPiCS2XRzDr",
        "is_executing": true
      },
      "outputs": [],
      "source": [
        "def plot_confusion_matrix(y_preds, y_true, labels):\n",
        "    cm = confusion_matrix(y_true, y_preds, normalize=\"true\")\n",
        "    fig, ax = plt.subplots(figsize=(6, 6))\n",
        "    disp = ConfusionMatrixDisplay(confusion_matrix=cm, display_labels=labels)\n",
        "    disp.plot(cmap=\"Blues\", values_format=\".2f\", ax=ax)\n",
        "    plt.title('Normalized Confusion Matrix')\n",
        "    plt.show()"
      ]
    },
    {
      "cell_type": "markdown",
      "metadata": {
        "id": "Ihxi8EQ7RzDr"
      },
      "source": [
        "#### Calculate Baseline Values for Confusion Matrix"
      ]
    },
    {
      "cell_type": "code",
      "execution_count": null,
      "metadata": {
        "id": "gJnSdHjiRzDr",
        "is_executing": true
      },
      "outputs": [],
      "source": [
        "tokenizer2 = AutoTokenizer.from_pretrained(model_ckpt)\n",
        "\n",
        "def tokenize(batch):\n",
        "    return tokenizer(batch['text'], truncation=True, padding=True, max_length=128, return_tensors=\"np\")\n",
        "\n",
        "encoded_data = ds.map(tokenize, batched=True, batch_size=None)\n",
        "\n",
        "model2 = (AutoModel.from_pretrained(model_ckpt, num_labels=num_labels, output_hidden_states=True).to(device))\n",
        "\n",
        "def extract_hidden_states(batch=True):\n",
        "    inputs = {k:v.to(device) for k,v in batch.items() if k in tokenizer.model_input_names}\n",
        "    with torch.no_grad():\n",
        "        last_hidden_state = model2(**inputs).last_hidden_state\n",
        "    return {\"hidden_state\": last_hidden_state[:,0].cpu().numpy()}\n",
        "\n",
        "encoded_data.set_format('torch', columns=['input_ids', 'attention_mask', 'label'])\n",
        "\n",
        "hidden_data = encoded_data.map(extract_hidden_states, batched=True)\n",
        "\n",
        "X_train = np.array(hidden_data[\"train\"][\"hidden_state\"])\n",
        "X_valid = np.array(hidden_data[\"valid\"][\"hidden_state\"])\n",
        "y_train = np.array(hidden_data[\"train\"][\"label\"])\n",
        "y_valid = np.array(hidden_data[\"valid\"][\"label\"])\n",
        "X_train.shape, X_valid.shape"
      ]
    },
    {
      "cell_type": "markdown",
      "metadata": {
        "id": "Tb44EducRzDs"
      },
      "source": [
        "#### Plot Confusion Matrix for Fine-Tuned Model"
      ]
    },
    {
      "cell_type": "code",
      "execution_count": null,
      "metadata": {
        "id": "JynLmMtMRzDs",
        "is_executing": true
      },
      "outputs": [],
      "source": [
        "y_preds = np.argmax(valid_predictions.predictions, axis=1)\n",
        "labels = {0: 'ham', 1: 'spam'}\n",
        "\n",
        "print(len(y_preds))\n",
        "print(len(y_valid))\n",
        "print(valid_predictions.predictions.shape)\n",
        "\n",
        "\n",
        "plot_confusion_matrix(y_preds, y_valid, labels=labels)"
      ]
    },
    {
      "cell_type": "markdown",
      "metadata": {
        "id": "gCJxDHuHRzDs"
      },
      "source": [
        "#### Push Fine-Tuned Model to HuggingFace Hub (My Profile)"
      ]
    },
    {
      "cell_type": "code",
      "execution_count": null,
      "metadata": {
        "id": "xdlh0uyqRzDs",
        "is_executing": true
      },
      "outputs": [],
      "source": [
        "trainer.push_to_hub(commit_message=\"All Done\")"
      ]
    }
  ],
  "metadata": {
    "accelerator": "GPU",
    "colab": {
      "gpuType": "T4",
      "provenance": []
    },
    "kernelspec": {
      "display_name": "Python 3",
      "name": "python3"
    },
    "language_info": {
      "codemirror_mode": {
        "name": "ipython",
        "version": 3
      },
      "file_extension": ".py",
      "mimetype": "text/x-python",
      "name": "python",
      "nbconvert_exporter": "python",
      "pygments_lexer": "ipython3",
      "version": "3.8.10"
    },
    "orig_nbformat": 4,
    "vscode": {
      "interpreter": {
        "hash": "a52fe47989fdc78fafbb981021cec52a6b82df6453830b9ffbd04250493e6cab"
      }
    },
    "widgets": {
      "application/vnd.jupyter.widget-state+json": {
        "01d5d0f426e042429a9635ff802fca53": {
          "model_module": "@jupyter-widgets/base",
          "model_module_version": "1.2.0",
          "model_name": "LayoutModel",
          "state": {
            "_model_module": "@jupyter-widgets/base",
            "_model_module_version": "1.2.0",
            "_model_name": "LayoutModel",
            "_view_count": null,
            "_view_module": "@jupyter-widgets/base",
            "_view_module_version": "1.2.0",
            "_view_name": "LayoutView",
            "align_content": null,
            "align_items": "center",
            "align_self": null,
            "border": null,
            "bottom": null,
            "display": "flex",
            "flex": null,
            "flex_flow": "column",
            "grid_area": null,
            "grid_auto_columns": null,
            "grid_auto_flow": null,
            "grid_auto_rows": null,
            "grid_column": null,
            "grid_gap": null,
            "grid_row": null,
            "grid_template_areas": null,
            "grid_template_columns": null,
            "grid_template_rows": null,
            "height": null,
            "justify_content": null,
            "justify_items": null,
            "left": null,
            "margin": null,
            "max_height": null,
            "max_width": null,
            "min_height": null,
            "min_width": null,
            "object_fit": null,
            "object_position": null,
            "order": null,
            "overflow": null,
            "overflow_x": null,
            "overflow_y": null,
            "padding": null,
            "right": null,
            "top": null,
            "visibility": null,
            "width": "50%"
          }
        },
        "08af867697dd419f8054a9731c172f7e": {
          "model_module": "@jupyter-widgets/controls",
          "model_module_version": "1.5.0",
          "model_name": "ButtonModel",
          "state": {
            "_dom_classes": [],
            "_model_module": "@jupyter-widgets/controls",
            "_model_module_version": "1.5.0",
            "_model_name": "ButtonModel",
            "_view_count": null,
            "_view_module": "@jupyter-widgets/controls",
            "_view_module_version": "1.5.0",
            "_view_name": "ButtonView",
            "button_style": "",
            "description": "Login",
            "disabled": false,
            "icon": "",
            "layout": "IPY_MODEL_93588f09ebb647ebb558eaca8dd4ee24",
            "style": "IPY_MODEL_09e95e18cd444598914c24807925d674",
            "tooltip": ""
          }
        },
        "09e95e18cd444598914c24807925d674": {
          "model_module": "@jupyter-widgets/controls",
          "model_module_version": "1.5.0",
          "model_name": "ButtonStyleModel",
          "state": {
            "_model_module": "@jupyter-widgets/controls",
            "_model_module_version": "1.5.0",
            "_model_name": "ButtonStyleModel",
            "_view_count": null,
            "_view_module": "@jupyter-widgets/base",
            "_view_module_version": "1.2.0",
            "_view_name": "StyleView",
            "button_color": null,
            "font_weight": ""
          }
        },
        "0b16616bf2224e27b3db4a68ca14cc1b": {
          "model_module": "@jupyter-widgets/base",
          "model_module_version": "1.2.0",
          "model_name": "LayoutModel",
          "state": {
            "_model_module": "@jupyter-widgets/base",
            "_model_module_version": "1.2.0",
            "_model_name": "LayoutModel",
            "_view_count": null,
            "_view_module": "@jupyter-widgets/base",
            "_view_module_version": "1.2.0",
            "_view_name": "LayoutView",
            "align_content": null,
            "align_items": null,
            "align_self": null,
            "border": null,
            "bottom": null,
            "display": null,
            "flex": null,
            "flex_flow": null,
            "grid_area": null,
            "grid_auto_columns": null,
            "grid_auto_flow": null,
            "grid_auto_rows": null,
            "grid_column": null,
            "grid_gap": null,
            "grid_row": null,
            "grid_template_areas": null,
            "grid_template_columns": null,
            "grid_template_rows": null,
            "height": null,
            "justify_content": null,
            "justify_items": null,
            "left": null,
            "margin": null,
            "max_height": null,
            "max_width": null,
            "min_height": null,
            "min_width": null,
            "object_fit": null,
            "object_position": null,
            "order": null,
            "overflow": null,
            "overflow_x": null,
            "overflow_y": null,
            "padding": null,
            "right": null,
            "top": null,
            "visibility": null,
            "width": null
          }
        },
        "0bea318788d446a68977bc1f407188f3": {
          "model_module": "@jupyter-widgets/base",
          "model_module_version": "1.2.0",
          "model_name": "LayoutModel",
          "state": {
            "_model_module": "@jupyter-widgets/base",
            "_model_module_version": "1.2.0",
            "_model_name": "LayoutModel",
            "_view_count": null,
            "_view_module": "@jupyter-widgets/base",
            "_view_module_version": "1.2.0",
            "_view_name": "LayoutView",
            "align_content": null,
            "align_items": null,
            "align_self": null,
            "border": null,
            "bottom": null,
            "display": null,
            "flex": null,
            "flex_flow": null,
            "grid_area": null,
            "grid_auto_columns": null,
            "grid_auto_flow": null,
            "grid_auto_rows": null,
            "grid_column": null,
            "grid_gap": null,
            "grid_row": null,
            "grid_template_areas": null,
            "grid_template_columns": null,
            "grid_template_rows": null,
            "height": null,
            "justify_content": null,
            "justify_items": null,
            "left": null,
            "margin": null,
            "max_height": null,
            "max_width": null,
            "min_height": null,
            "min_width": null,
            "object_fit": null,
            "object_position": null,
            "order": null,
            "overflow": null,
            "overflow_x": null,
            "overflow_y": null,
            "padding": null,
            "right": null,
            "top": null,
            "visibility": null,
            "width": null
          }
        },
        "0e910260d3fd4137abf85b4e727bb565": {
          "model_module": "@jupyter-widgets/base",
          "model_module_version": "1.2.0",
          "model_name": "LayoutModel",
          "state": {
            "_model_module": "@jupyter-widgets/base",
            "_model_module_version": "1.2.0",
            "_model_name": "LayoutModel",
            "_view_count": null,
            "_view_module": "@jupyter-widgets/base",
            "_view_module_version": "1.2.0",
            "_view_name": "LayoutView",
            "align_content": null,
            "align_items": null,
            "align_self": null,
            "border": null,
            "bottom": null,
            "display": null,
            "flex": null,
            "flex_flow": null,
            "grid_area": null,
            "grid_auto_columns": null,
            "grid_auto_flow": null,
            "grid_auto_rows": null,
            "grid_column": null,
            "grid_gap": null,
            "grid_row": null,
            "grid_template_areas": null,
            "grid_template_columns": null,
            "grid_template_rows": null,
            "height": null,
            "justify_content": null,
            "justify_items": null,
            "left": null,
            "margin": null,
            "max_height": null,
            "max_width": null,
            "min_height": null,
            "min_width": null,
            "object_fit": null,
            "object_position": null,
            "order": null,
            "overflow": null,
            "overflow_x": null,
            "overflow_y": null,
            "padding": null,
            "right": null,
            "top": null,
            "visibility": null,
            "width": null
          }
        },
        "141d7ff78b6f48c4bb98b3093c0c1d7e": {
          "model_module": "@jupyter-widgets/base",
          "model_module_version": "1.2.0",
          "model_name": "LayoutModel",
          "state": {
            "_model_module": "@jupyter-widgets/base",
            "_model_module_version": "1.2.0",
            "_model_name": "LayoutModel",
            "_view_count": null,
            "_view_module": "@jupyter-widgets/base",
            "_view_module_version": "1.2.0",
            "_view_name": "LayoutView",
            "align_content": null,
            "align_items": null,
            "align_self": null,
            "border": null,
            "bottom": null,
            "display": null,
            "flex": null,
            "flex_flow": null,
            "grid_area": null,
            "grid_auto_columns": null,
            "grid_auto_flow": null,
            "grid_auto_rows": null,
            "grid_column": null,
            "grid_gap": null,
            "grid_row": null,
            "grid_template_areas": null,
            "grid_template_columns": null,
            "grid_template_rows": null,
            "height": null,
            "justify_content": null,
            "justify_items": null,
            "left": null,
            "margin": null,
            "max_height": null,
            "max_width": null,
            "min_height": null,
            "min_width": null,
            "object_fit": null,
            "object_position": null,
            "order": null,
            "overflow": null,
            "overflow_x": null,
            "overflow_y": null,
            "padding": null,
            "right": null,
            "top": null,
            "visibility": null,
            "width": null
          }
        },
        "155c6133f880466ba10246949bd78f6e": {
          "model_module": "@jupyter-widgets/controls",
          "model_module_version": "1.5.0",
          "model_name": "DescriptionStyleModel",
          "state": {
            "_model_module": "@jupyter-widgets/controls",
            "_model_module_version": "1.5.0",
            "_model_name": "DescriptionStyleModel",
            "_view_count": null,
            "_view_module": "@jupyter-widgets/base",
            "_view_module_version": "1.2.0",
            "_view_name": "StyleView",
            "description_width": ""
          }
        },
        "1560e755c1d146bb9e469f7d48f2db51": {
          "model_module": "@jupyter-widgets/controls",
          "model_module_version": "1.5.0",
          "model_name": "DescriptionStyleModel",
          "state": {
            "_model_module": "@jupyter-widgets/controls",
            "_model_module_version": "1.5.0",
            "_model_name": "DescriptionStyleModel",
            "_view_count": null,
            "_view_module": "@jupyter-widgets/base",
            "_view_module_version": "1.2.0",
            "_view_name": "StyleView",
            "description_width": ""
          }
        },
        "17cb4dd3ff6c435c99d577affed29db2": {
          "model_module": "@jupyter-widgets/controls",
          "model_module_version": "1.5.0",
          "model_name": "DescriptionStyleModel",
          "state": {
            "_model_module": "@jupyter-widgets/controls",
            "_model_module_version": "1.5.0",
            "_model_name": "DescriptionStyleModel",
            "_view_count": null,
            "_view_module": "@jupyter-widgets/base",
            "_view_module_version": "1.2.0",
            "_view_name": "StyleView",
            "description_width": ""
          }
        },
        "1d860ce8d2c14c0eb4ecc67ce4f4695b": {
          "model_module": "@jupyter-widgets/controls",
          "model_module_version": "1.5.0",
          "model_name": "CheckboxModel",
          "state": {
            "_dom_classes": [],
            "_model_module": "@jupyter-widgets/controls",
            "_model_module_version": "1.5.0",
            "_model_name": "CheckboxModel",
            "_view_count": null,
            "_view_module": "@jupyter-widgets/controls",
            "_view_module_version": "1.5.0",
            "_view_name": "CheckboxView",
            "description": "Add token as git credential?",
            "description_tooltip": null,
            "disabled": false,
            "indent": true,
            "layout": "IPY_MODEL_0bea318788d446a68977bc1f407188f3",
            "style": "IPY_MODEL_4601a5a8b010446aa43fe25343a144a3",
            "value": true
          }
        },
        "269af35ae4c64ae28e139043fdd24e53": {
          "model_module": "@jupyter-widgets/base",
          "model_module_version": "1.2.0",
          "model_name": "LayoutModel",
          "state": {
            "_model_module": "@jupyter-widgets/base",
            "_model_module_version": "1.2.0",
            "_model_name": "LayoutModel",
            "_view_count": null,
            "_view_module": "@jupyter-widgets/base",
            "_view_module_version": "1.2.0",
            "_view_name": "LayoutView",
            "align_content": null,
            "align_items": null,
            "align_self": null,
            "border": null,
            "bottom": null,
            "display": null,
            "flex": null,
            "flex_flow": null,
            "grid_area": null,
            "grid_auto_columns": null,
            "grid_auto_flow": null,
            "grid_auto_rows": null,
            "grid_column": null,
            "grid_gap": null,
            "grid_row": null,
            "grid_template_areas": null,
            "grid_template_columns": null,
            "grid_template_rows": null,
            "height": null,
            "justify_content": null,
            "justify_items": null,
            "left": null,
            "margin": null,
            "max_height": null,
            "max_width": null,
            "min_height": null,
            "min_width": null,
            "object_fit": null,
            "object_position": null,
            "order": null,
            "overflow": null,
            "overflow_x": null,
            "overflow_y": null,
            "padding": null,
            "right": null,
            "top": null,
            "visibility": null,
            "width": null
          }
        },
        "41a14e2c5cab4b3e94bf70a4ffb2f5c2": {
          "model_module": "@jupyter-widgets/controls",
          "model_module_version": "1.5.0",
          "model_name": "DescriptionStyleModel",
          "state": {
            "_model_module": "@jupyter-widgets/controls",
            "_model_module_version": "1.5.0",
            "_model_name": "DescriptionStyleModel",
            "_view_count": null,
            "_view_module": "@jupyter-widgets/base",
            "_view_module_version": "1.2.0",
            "_view_name": "StyleView",
            "description_width": ""
          }
        },
        "44c34676bfb44e8990a527c096718f74": {
          "model_module": "@jupyter-widgets/controls",
          "model_module_version": "1.5.0",
          "model_name": "HTMLModel",
          "state": {
            "_dom_classes": [],
            "_model_module": "@jupyter-widgets/controls",
            "_model_module_version": "1.5.0",
            "_model_name": "HTMLModel",
            "_view_count": null,
            "_view_module": "@jupyter-widgets/controls",
            "_view_module_version": "1.5.0",
            "_view_name": "HTMLView",
            "description": "",
            "description_tooltip": null,
            "layout": "IPY_MODEL_9df508fce6f64def9f2ae69c74307dd3",
            "placeholder": "​",
            "style": "IPY_MODEL_1560e755c1d146bb9e469f7d48f2db51",
            "value": "<center> <img\nsrc=https://huggingface.co/front/assets/huggingface_logo-noborder.svg\nalt='Hugging Face'> <br> Copy a token from <a\nhref=\"https://huggingface.co/settings/tokens\" target=\"_blank\">your Hugging Face\ntokens page</a> and paste it below. <br> Immediately click login after copying\nyour token or it might be stored in plain text in this notebook file. </center>"
          }
        },
        "4601a5a8b010446aa43fe25343a144a3": {
          "model_module": "@jupyter-widgets/controls",
          "model_module_version": "1.5.0",
          "model_name": "DescriptionStyleModel",
          "state": {
            "_model_module": "@jupyter-widgets/controls",
            "_model_module_version": "1.5.0",
            "_model_name": "DescriptionStyleModel",
            "_view_count": null,
            "_view_module": "@jupyter-widgets/base",
            "_view_module_version": "1.2.0",
            "_view_name": "StyleView",
            "description_width": ""
          }
        },
        "4f0431b59fab486c9516f9bb57f1979b": {
          "model_module": "@jupyter-widgets/controls",
          "model_module_version": "1.5.0",
          "model_name": "ProgressStyleModel",
          "state": {
            "_model_module": "@jupyter-widgets/controls",
            "_model_module_version": "1.5.0",
            "_model_name": "ProgressStyleModel",
            "_view_count": null,
            "_view_module": "@jupyter-widgets/base",
            "_view_module_version": "1.2.0",
            "_view_name": "StyleView",
            "bar_color": null,
            "description_width": ""
          }
        },
        "502eeb66cee8411e8e653f54ecc4ae93": {
          "model_module": "@jupyter-widgets/base",
          "model_module_version": "1.2.0",
          "model_name": "LayoutModel",
          "state": {
            "_model_module": "@jupyter-widgets/base",
            "_model_module_version": "1.2.0",
            "_model_name": "LayoutModel",
            "_view_count": null,
            "_view_module": "@jupyter-widgets/base",
            "_view_module_version": "1.2.0",
            "_view_name": "LayoutView",
            "align_content": null,
            "align_items": null,
            "align_self": null,
            "border": null,
            "bottom": null,
            "display": null,
            "flex": null,
            "flex_flow": null,
            "grid_area": null,
            "grid_auto_columns": null,
            "grid_auto_flow": null,
            "grid_auto_rows": null,
            "grid_column": null,
            "grid_gap": null,
            "grid_row": null,
            "grid_template_areas": null,
            "grid_template_columns": null,
            "grid_template_rows": null,
            "height": null,
            "justify_content": null,
            "justify_items": null,
            "left": null,
            "margin": null,
            "max_height": null,
            "max_width": null,
            "min_height": null,
            "min_width": null,
            "object_fit": null,
            "object_position": null,
            "order": null,
            "overflow": null,
            "overflow_x": null,
            "overflow_y": null,
            "padding": null,
            "right": null,
            "top": null,
            "visibility": null,
            "width": null
          }
        },
        "54c6dbb2f6fe4642b3a04347360eb294": {
          "model_module": "@jupyter-widgets/controls",
          "model_module_version": "1.5.0",
          "model_name": "DescriptionStyleModel",
          "state": {
            "_model_module": "@jupyter-widgets/controls",
            "_model_module_version": "1.5.0",
            "_model_name": "DescriptionStyleModel",
            "_view_count": null,
            "_view_module": "@jupyter-widgets/base",
            "_view_module_version": "1.2.0",
            "_view_name": "StyleView",
            "description_width": ""
          }
        },
        "59196517008e492093dbcdd0e0cb1726": {
          "model_module": "@jupyter-widgets/controls",
          "model_module_version": "1.5.0",
          "model_name": "HTMLModel",
          "state": {
            "_dom_classes": [],
            "_model_module": "@jupyter-widgets/controls",
            "_model_module_version": "1.5.0",
            "_model_name": "HTMLModel",
            "_view_count": null,
            "_view_module": "@jupyter-widgets/controls",
            "_view_module_version": "1.5.0",
            "_view_name": "HTMLView",
            "description": "",
            "description_tooltip": null,
            "layout": "IPY_MODEL_502eeb66cee8411e8e653f54ecc4ae93",
            "placeholder": "​",
            "style": "IPY_MODEL_54c6dbb2f6fe4642b3a04347360eb294",
            "value": "Map: 100%"
          }
        },
        "645b6ba6678c48d28b54ce8b6999705e": {
          "model_module": "@jupyter-widgets/controls",
          "model_module_version": "1.5.0",
          "model_name": "DescriptionStyleModel",
          "state": {
            "_model_module": "@jupyter-widgets/controls",
            "_model_module_version": "1.5.0",
            "_model_name": "DescriptionStyleModel",
            "_view_count": null,
            "_view_module": "@jupyter-widgets/base",
            "_view_module_version": "1.2.0",
            "_view_name": "StyleView",
            "description_width": ""
          }
        },
        "80cf859eee8b4bb38ee7c904de40abf7": {
          "model_module": "@jupyter-widgets/controls",
          "model_module_version": "1.5.0",
          "model_name": "VBoxModel",
          "state": {
            "_dom_classes": [],
            "_model_module": "@jupyter-widgets/controls",
            "_model_module_version": "1.5.0",
            "_model_name": "VBoxModel",
            "_view_count": null,
            "_view_module": "@jupyter-widgets/controls",
            "_view_module_version": "1.5.0",
            "_view_name": "VBoxView",
            "box_style": "",
            "children": [
              "IPY_MODEL_44c34676bfb44e8990a527c096718f74",
              "IPY_MODEL_daa01e1db8084de6b62e068cd292e9d3",
              "IPY_MODEL_1d860ce8d2c14c0eb4ecc67ce4f4695b",
              "IPY_MODEL_08af867697dd419f8054a9731c172f7e",
              "IPY_MODEL_b6b8e9b062e449afab662524f5d4ad27"
            ],
            "layout": "IPY_MODEL_01d5d0f426e042429a9635ff802fca53"
          }
        },
        "82da8a313b764f11b18b2652b39d0674": {
          "model_module": "@jupyter-widgets/controls",
          "model_module_version": "1.5.0",
          "model_name": "FloatProgressModel",
          "state": {
            "_dom_classes": [],
            "_model_module": "@jupyter-widgets/controls",
            "_model_module_version": "1.5.0",
            "_model_name": "FloatProgressModel",
            "_view_count": null,
            "_view_module": "@jupyter-widgets/controls",
            "_view_module_version": "1.5.0",
            "_view_name": "ProgressView",
            "bar_style": "success",
            "description": "",
            "description_tooltip": null,
            "layout": "IPY_MODEL_0e910260d3fd4137abf85b4e727bb565",
            "max": 2035,
            "min": 0,
            "orientation": "horizontal",
            "style": "IPY_MODEL_f812e762a34e4e2fa32efc403045a5c4",
            "value": 2035
          }
        },
        "89e545dff9764690b1d9d989cd1f033b": {
          "model_module": "@jupyter-widgets/base",
          "model_module_version": "1.2.0",
          "model_name": "LayoutModel",
          "state": {
            "_model_module": "@jupyter-widgets/base",
            "_model_module_version": "1.2.0",
            "_model_name": "LayoutModel",
            "_view_count": null,
            "_view_module": "@jupyter-widgets/base",
            "_view_module_version": "1.2.0",
            "_view_name": "LayoutView",
            "align_content": null,
            "align_items": null,
            "align_self": null,
            "border": null,
            "bottom": null,
            "display": null,
            "flex": null,
            "flex_flow": null,
            "grid_area": null,
            "grid_auto_columns": null,
            "grid_auto_flow": null,
            "grid_auto_rows": null,
            "grid_column": null,
            "grid_gap": null,
            "grid_row": null,
            "grid_template_areas": null,
            "grid_template_columns": null,
            "grid_template_rows": null,
            "height": null,
            "justify_content": null,
            "justify_items": null,
            "left": null,
            "margin": null,
            "max_height": null,
            "max_width": null,
            "min_height": null,
            "min_width": null,
            "object_fit": null,
            "object_position": null,
            "order": null,
            "overflow": null,
            "overflow_x": null,
            "overflow_y": null,
            "padding": null,
            "right": null,
            "top": null,
            "visibility": null,
            "width": null
          }
        },
        "93588f09ebb647ebb558eaca8dd4ee24": {
          "model_module": "@jupyter-widgets/base",
          "model_module_version": "1.2.0",
          "model_name": "LayoutModel",
          "state": {
            "_model_module": "@jupyter-widgets/base",
            "_model_module_version": "1.2.0",
            "_model_name": "LayoutModel",
            "_view_count": null,
            "_view_module": "@jupyter-widgets/base",
            "_view_module_version": "1.2.0",
            "_view_name": "LayoutView",
            "align_content": null,
            "align_items": null,
            "align_self": null,
            "border": null,
            "bottom": null,
            "display": null,
            "flex": null,
            "flex_flow": null,
            "grid_area": null,
            "grid_auto_columns": null,
            "grid_auto_flow": null,
            "grid_auto_rows": null,
            "grid_column": null,
            "grid_gap": null,
            "grid_row": null,
            "grid_template_areas": null,
            "grid_template_columns": null,
            "grid_template_rows": null,
            "height": null,
            "justify_content": null,
            "justify_items": null,
            "left": null,
            "margin": null,
            "max_height": null,
            "max_width": null,
            "min_height": null,
            "min_width": null,
            "object_fit": null,
            "object_position": null,
            "order": null,
            "overflow": null,
            "overflow_x": null,
            "overflow_y": null,
            "padding": null,
            "right": null,
            "top": null,
            "visibility": null,
            "width": null
          }
        },
        "95a6742866014012927428add196c015": {
          "model_module": "@jupyter-widgets/controls",
          "model_module_version": "1.5.0",
          "model_name": "FloatProgressModel",
          "state": {
            "_dom_classes": [],
            "_model_module": "@jupyter-widgets/controls",
            "_model_module_version": "1.5.0",
            "_model_name": "FloatProgressModel",
            "_view_count": null,
            "_view_module": "@jupyter-widgets/controls",
            "_view_module_version": "1.5.0",
            "_view_name": "ProgressView",
            "bar_style": "success",
            "description": "",
            "description_tooltip": null,
            "layout": "IPY_MODEL_269af35ae4c64ae28e139043fdd24e53",
            "max": 708,
            "min": 0,
            "orientation": "horizontal",
            "style": "IPY_MODEL_4f0431b59fab486c9516f9bb57f1979b",
            "value": 708
          }
        },
        "9df508fce6f64def9f2ae69c74307dd3": {
          "model_module": "@jupyter-widgets/base",
          "model_module_version": "1.2.0",
          "model_name": "LayoutModel",
          "state": {
            "_model_module": "@jupyter-widgets/base",
            "_model_module_version": "1.2.0",
            "_model_name": "LayoutModel",
            "_view_count": null,
            "_view_module": "@jupyter-widgets/base",
            "_view_module_version": "1.2.0",
            "_view_name": "LayoutView",
            "align_content": null,
            "align_items": null,
            "align_self": null,
            "border": null,
            "bottom": null,
            "display": null,
            "flex": null,
            "flex_flow": null,
            "grid_area": null,
            "grid_auto_columns": null,
            "grid_auto_flow": null,
            "grid_auto_rows": null,
            "grid_column": null,
            "grid_gap": null,
            "grid_row": null,
            "grid_template_areas": null,
            "grid_template_columns": null,
            "grid_template_rows": null,
            "height": null,
            "justify_content": null,
            "justify_items": null,
            "left": null,
            "margin": null,
            "max_height": null,
            "max_width": null,
            "min_height": null,
            "min_width": null,
            "object_fit": null,
            "object_position": null,
            "order": null,
            "overflow": null,
            "overflow_x": null,
            "overflow_y": null,
            "padding": null,
            "right": null,
            "top": null,
            "visibility": null,
            "width": null
          }
        },
        "add19c7a6ef542178e0d7de0509ccbaa": {
          "model_module": "@jupyter-widgets/base",
          "model_module_version": "1.2.0",
          "model_name": "LayoutModel",
          "state": {
            "_model_module": "@jupyter-widgets/base",
            "_model_module_version": "1.2.0",
            "_model_name": "LayoutModel",
            "_view_count": null,
            "_view_module": "@jupyter-widgets/base",
            "_view_module_version": "1.2.0",
            "_view_name": "LayoutView",
            "align_content": null,
            "align_items": null,
            "align_self": null,
            "border": null,
            "bottom": null,
            "display": null,
            "flex": null,
            "flex_flow": null,
            "grid_area": null,
            "grid_auto_columns": null,
            "grid_auto_flow": null,
            "grid_auto_rows": null,
            "grid_column": null,
            "grid_gap": null,
            "grid_row": null,
            "grid_template_areas": null,
            "grid_template_columns": null,
            "grid_template_rows": null,
            "height": null,
            "justify_content": null,
            "justify_items": null,
            "left": null,
            "margin": null,
            "max_height": null,
            "max_width": null,
            "min_height": null,
            "min_width": null,
            "object_fit": null,
            "object_position": null,
            "order": null,
            "overflow": null,
            "overflow_x": null,
            "overflow_y": null,
            "padding": null,
            "right": null,
            "top": null,
            "visibility": null,
            "width": null
          }
        },
        "b36f094d6dd644cb951108f61eb9694f": {
          "model_module": "@jupyter-widgets/controls",
          "model_module_version": "1.5.0",
          "model_name": "HBoxModel",
          "state": {
            "_dom_classes": [],
            "_model_module": "@jupyter-widgets/controls",
            "_model_module_version": "1.5.0",
            "_model_name": "HBoxModel",
            "_view_count": null,
            "_view_module": "@jupyter-widgets/controls",
            "_view_module_version": "1.5.0",
            "_view_name": "HBoxView",
            "box_style": "",
            "children": [
              "IPY_MODEL_59196517008e492093dbcdd0e0cb1726",
              "IPY_MODEL_95a6742866014012927428add196c015",
              "IPY_MODEL_d497ceebb12743529bb7c38f0f80b1a0"
            ],
            "layout": "IPY_MODEL_add19c7a6ef542178e0d7de0509ccbaa"
          }
        },
        "b3bd66aee4d0433fa7614a33703df137": {
          "model_module": "@jupyter-widgets/controls",
          "model_module_version": "1.5.0",
          "model_name": "HTMLModel",
          "state": {
            "_dom_classes": [],
            "_model_module": "@jupyter-widgets/controls",
            "_model_module_version": "1.5.0",
            "_model_name": "HTMLModel",
            "_view_count": null,
            "_view_module": "@jupyter-widgets/controls",
            "_view_module_version": "1.5.0",
            "_view_name": "HTMLView",
            "description": "",
            "description_tooltip": null,
            "layout": "IPY_MODEL_141d7ff78b6f48c4bb98b3093c0c1d7e",
            "placeholder": "​",
            "style": "IPY_MODEL_645b6ba6678c48d28b54ce8b6999705e",
            "value": "Map: 100%"
          }
        },
        "b6185e4351fb476f9f00ee863542274d": {
          "model_module": "@jupyter-widgets/base",
          "model_module_version": "1.2.0",
          "model_name": "LayoutModel",
          "state": {
            "_model_module": "@jupyter-widgets/base",
            "_model_module_version": "1.2.0",
            "_model_name": "LayoutModel",
            "_view_count": null,
            "_view_module": "@jupyter-widgets/base",
            "_view_module_version": "1.2.0",
            "_view_name": "LayoutView",
            "align_content": null,
            "align_items": null,
            "align_self": null,
            "border": null,
            "bottom": null,
            "display": null,
            "flex": null,
            "flex_flow": null,
            "grid_area": null,
            "grid_auto_columns": null,
            "grid_auto_flow": null,
            "grid_auto_rows": null,
            "grid_column": null,
            "grid_gap": null,
            "grid_row": null,
            "grid_template_areas": null,
            "grid_template_columns": null,
            "grid_template_rows": null,
            "height": null,
            "justify_content": null,
            "justify_items": null,
            "left": null,
            "margin": null,
            "max_height": null,
            "max_width": null,
            "min_height": null,
            "min_width": null,
            "object_fit": null,
            "object_position": null,
            "order": null,
            "overflow": null,
            "overflow_x": null,
            "overflow_y": null,
            "padding": null,
            "right": null,
            "top": null,
            "visibility": null,
            "width": null
          }
        },
        "b6b8e9b062e449afab662524f5d4ad27": {
          "model_module": "@jupyter-widgets/controls",
          "model_module_version": "1.5.0",
          "model_name": "HTMLModel",
          "state": {
            "_dom_classes": [],
            "_model_module": "@jupyter-widgets/controls",
            "_model_module_version": "1.5.0",
            "_model_name": "HTMLModel",
            "_view_count": null,
            "_view_module": "@jupyter-widgets/controls",
            "_view_module_version": "1.5.0",
            "_view_name": "HTMLView",
            "description": "",
            "description_tooltip": null,
            "layout": "IPY_MODEL_c39e565e084b4813a9ac4cf5c69ba6cf",
            "placeholder": "​",
            "style": "IPY_MODEL_17cb4dd3ff6c435c99d577affed29db2",
            "value": "\n<b>Pro Tip:</b> If you don't already have one, you can create a dedicated\n'notebooks' token with 'write' access, that you can then easily reuse for all\nnotebooks. </center>"
          }
        },
        "c39e565e084b4813a9ac4cf5c69ba6cf": {
          "model_module": "@jupyter-widgets/base",
          "model_module_version": "1.2.0",
          "model_name": "LayoutModel",
          "state": {
            "_model_module": "@jupyter-widgets/base",
            "_model_module_version": "1.2.0",
            "_model_name": "LayoutModel",
            "_view_count": null,
            "_view_module": "@jupyter-widgets/base",
            "_view_module_version": "1.2.0",
            "_view_name": "LayoutView",
            "align_content": null,
            "align_items": null,
            "align_self": null,
            "border": null,
            "bottom": null,
            "display": null,
            "flex": null,
            "flex_flow": null,
            "grid_area": null,
            "grid_auto_columns": null,
            "grid_auto_flow": null,
            "grid_auto_rows": null,
            "grid_column": null,
            "grid_gap": null,
            "grid_row": null,
            "grid_template_areas": null,
            "grid_template_columns": null,
            "grid_template_rows": null,
            "height": null,
            "justify_content": null,
            "justify_items": null,
            "left": null,
            "margin": null,
            "max_height": null,
            "max_width": null,
            "min_height": null,
            "min_width": null,
            "object_fit": null,
            "object_position": null,
            "order": null,
            "overflow": null,
            "overflow_x": null,
            "overflow_y": null,
            "padding": null,
            "right": null,
            "top": null,
            "visibility": null,
            "width": null
          }
        },
        "cab9372e20ce44fc807a360ace65aa67": {
          "model_module": "@jupyter-widgets/controls",
          "model_module_version": "1.5.0",
          "model_name": "HBoxModel",
          "state": {
            "_dom_classes": [],
            "_model_module": "@jupyter-widgets/controls",
            "_model_module_version": "1.5.0",
            "_model_name": "HBoxModel",
            "_view_count": null,
            "_view_module": "@jupyter-widgets/controls",
            "_view_module_version": "1.5.0",
            "_view_name": "HBoxView",
            "box_style": "",
            "children": [
              "IPY_MODEL_b3bd66aee4d0433fa7614a33703df137",
              "IPY_MODEL_82da8a313b764f11b18b2652b39d0674",
              "IPY_MODEL_fbfa0b50817f4a11b7088f59225912f7"
            ],
            "layout": "IPY_MODEL_ea609bd9d42b415d9f250abb10a23275"
          }
        },
        "d497ceebb12743529bb7c38f0f80b1a0": {
          "model_module": "@jupyter-widgets/controls",
          "model_module_version": "1.5.0",
          "model_name": "HTMLModel",
          "state": {
            "_dom_classes": [],
            "_model_module": "@jupyter-widgets/controls",
            "_model_module_version": "1.5.0",
            "_model_name": "HTMLModel",
            "_view_count": null,
            "_view_module": "@jupyter-widgets/controls",
            "_view_module_version": "1.5.0",
            "_view_name": "HTMLView",
            "description": "",
            "description_tooltip": null,
            "layout": "IPY_MODEL_b6185e4351fb476f9f00ee863542274d",
            "placeholder": "​",
            "style": "IPY_MODEL_f1b3bb27a2aa498a8d1eb39f1e92d4f1",
            "value": " 708/708 [00:00&lt;00:00, 3646.24 examples/s]"
          }
        },
        "daa01e1db8084de6b62e068cd292e9d3": {
          "model_module": "@jupyter-widgets/controls",
          "model_module_version": "1.5.0",
          "model_name": "PasswordModel",
          "state": {
            "_dom_classes": [],
            "_model_module": "@jupyter-widgets/controls",
            "_model_module_version": "1.5.0",
            "_model_name": "PasswordModel",
            "_view_count": null,
            "_view_module": "@jupyter-widgets/controls",
            "_view_module_version": "1.5.0",
            "_view_name": "PasswordView",
            "continuous_update": true,
            "description": "Token:",
            "description_tooltip": null,
            "disabled": false,
            "layout": "IPY_MODEL_0b16616bf2224e27b3db4a68ca14cc1b",
            "placeholder": "​",
            "style": "IPY_MODEL_155c6133f880466ba10246949bd78f6e",
            "value": ""
          }
        },
        "ea609bd9d42b415d9f250abb10a23275": {
          "model_module": "@jupyter-widgets/base",
          "model_module_version": "1.2.0",
          "model_name": "LayoutModel",
          "state": {
            "_model_module": "@jupyter-widgets/base",
            "_model_module_version": "1.2.0",
            "_model_name": "LayoutModel",
            "_view_count": null,
            "_view_module": "@jupyter-widgets/base",
            "_view_module_version": "1.2.0",
            "_view_name": "LayoutView",
            "align_content": null,
            "align_items": null,
            "align_self": null,
            "border": null,
            "bottom": null,
            "display": null,
            "flex": null,
            "flex_flow": null,
            "grid_area": null,
            "grid_auto_columns": null,
            "grid_auto_flow": null,
            "grid_auto_rows": null,
            "grid_column": null,
            "grid_gap": null,
            "grid_row": null,
            "grid_template_areas": null,
            "grid_template_columns": null,
            "grid_template_rows": null,
            "height": null,
            "justify_content": null,
            "justify_items": null,
            "left": null,
            "margin": null,
            "max_height": null,
            "max_width": null,
            "min_height": null,
            "min_width": null,
            "object_fit": null,
            "object_position": null,
            "order": null,
            "overflow": null,
            "overflow_x": null,
            "overflow_y": null,
            "padding": null,
            "right": null,
            "top": null,
            "visibility": null,
            "width": null
          }
        },
        "f1b3bb27a2aa498a8d1eb39f1e92d4f1": {
          "model_module": "@jupyter-widgets/controls",
          "model_module_version": "1.5.0",
          "model_name": "DescriptionStyleModel",
          "state": {
            "_model_module": "@jupyter-widgets/controls",
            "_model_module_version": "1.5.0",
            "_model_name": "DescriptionStyleModel",
            "_view_count": null,
            "_view_module": "@jupyter-widgets/base",
            "_view_module_version": "1.2.0",
            "_view_name": "StyleView",
            "description_width": ""
          }
        },
        "f812e762a34e4e2fa32efc403045a5c4": {
          "model_module": "@jupyter-widgets/controls",
          "model_module_version": "1.5.0",
          "model_name": "ProgressStyleModel",
          "state": {
            "_model_module": "@jupyter-widgets/controls",
            "_model_module_version": "1.5.0",
            "_model_name": "ProgressStyleModel",
            "_view_count": null,
            "_view_module": "@jupyter-widgets/base",
            "_view_module_version": "1.2.0",
            "_view_name": "StyleView",
            "bar_color": null,
            "description_width": ""
          }
        },
        "fbfa0b50817f4a11b7088f59225912f7": {
          "model_module": "@jupyter-widgets/controls",
          "model_module_version": "1.5.0",
          "model_name": "HTMLModel",
          "state": {
            "_dom_classes": [],
            "_model_module": "@jupyter-widgets/controls",
            "_model_module_version": "1.5.0",
            "_model_name": "HTMLModel",
            "_view_count": null,
            "_view_module": "@jupyter-widgets/controls",
            "_view_module_version": "1.5.0",
            "_view_name": "HTMLView",
            "description": "",
            "description_tooltip": null,
            "layout": "IPY_MODEL_89e545dff9764690b1d9d989cd1f033b",
            "placeholder": "​",
            "style": "IPY_MODEL_41a14e2c5cab4b3e94bf70a4ffb2f5c2",
            "value": " 2035/2035 [00:00&lt;00:00, 7617.39 examples/s]"
          }
        }
      }
    }
  },
  "nbformat": 4,
  "nbformat_minor": 0
}
